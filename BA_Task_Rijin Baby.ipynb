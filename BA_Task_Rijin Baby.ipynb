{
 "cells": [
  {
   "cell_type": "markdown",
   "metadata": {},
   "source": [
    "<b>Python Version<b>"
   ]
  },
  {
   "cell_type": "code",
   "execution_count": 1,
   "metadata": {},
   "outputs": [
    {
     "name": "stdout",
     "output_type": "stream",
     "text": [
      "Python 3.8.5\n"
     ]
    }
   ],
   "source": [
    "!python -V"
   ]
  },
  {
   "cell_type": "markdown",
   "metadata": {},
   "source": [
    "<b>Libraries<b>"
   ]
  },
  {
   "cell_type": "code",
   "execution_count": 2,
   "metadata": {},
   "outputs": [],
   "source": [
    "import pkg_resources\n",
    "import subprocess\n",
    "import sys\n",
    "import os\n",
    "\n",
    "REQUIRED = {\n",
    "  'numpy', 'pandas', 'seaborn', 'matplotlib', 'sklearn'\n",
    "}\n",
    "installed = {pkg.key for pkg in pkg_resources.working_set}\n",
    "missing = REQUIRED - installed\n",
    "if missing:\n",
    "    python = sys.executable\n",
    "    subprocess.check_call([python, '-m', 'pip', 'install', *missing], stdout=subprocess.DEVNULL)\n",
    "    \n",
    "import numpy as np\n",
    "import pandas as pd\n",
    "import matplotlib.pyplot as plt\n",
    "import seaborn as sns"
   ]
  },
  {
   "cell_type": "markdown",
   "metadata": {},
   "source": [
    "# "
   ]
  },
  {
   "cell_type": "markdown",
   "metadata": {},
   "source": [
    "## EDA and Pre-processing"
   ]
  },
  {
   "cell_type": "markdown",
   "metadata": {},
   "source": [
    "### Exploring the dataset"
   ]
  },
  {
   "cell_type": "code",
   "execution_count": 3,
   "metadata": {},
   "outputs": [
    {
     "name": "stdout",
     "output_type": "stream",
     "text": [
      "           x           y\n",
      "0  13.357717  547.521179\n",
      "1  10.338816  130.596711\n",
      "2   7.721289   41.221844\n",
      "3   8.726541   77.597025\n",
      "4   7.525586   31.740437\n",
      "                x           y\n",
      "count  488.000000  462.000000\n",
      "mean    10.649274  251.418730\n",
      "std      2.209457  233.150756\n",
      "min      7.001618    3.751412\n",
      "25%      8.788517   69.000816\n",
      "50%     10.539698  152.701811\n",
      "75%     12.670049  391.265698\n",
      "max     14.482900  888.310387\n",
      "\n",
      "No.of missing values:\n",
      " x    12\n",
      "y    38\n",
      "dtype: int64\n"
     ]
    }
   ],
   "source": [
    "task_data = pd.read_csv(\"analytics_task_data.csv\")\n",
    "print(task_data.head())\n",
    "\n",
    "print(task_data.describe())\n",
    "print(\"\\nNo.of missing values:\\n\",task_data.isnull().sum())"
   ]
  },
  {
   "cell_type": "markdown",
   "metadata": {},
   "source": [
    "### Data Plots"
   ]
  },
  {
   "cell_type": "code",
   "execution_count": 4,
   "metadata": {},
   "outputs": [
    {
     "data": {
      "text/plain": [
       "array([[<AxesSubplot:title={'center':'x'}>,\n",
       "        <AxesSubplot:title={'center':'y'}>]], dtype=object)"
      ]
     },
     "execution_count": 4,
     "metadata": {},
     "output_type": "execute_result"
    },
    {
     "data": {
      "image/png": "[encoded data removed]",
      "text/plain": [
       "<Figure size 432x288 with 2 Axes>"
      ]
     },
     "metadata": {
      "needs_background": "light"
     },
     "output_type": "display_data"
    }
   ],
   "source": [
    "task_data.hist()  # distribution is not normal\n",
    "# task_data.plot()\n",
    "# task_data.plot(y='y',x='x')"
   ]
  },
  {
   "cell_type": "code",
   "execution_count": 5,
   "metadata": {},
   "outputs": [
    {
     "data": {
      "text/plain": [
       "<AxesSubplot:xlabel='y'>"
      ]
     },
     "execution_count": 5,
     "metadata": {},
     "output_type": "execute_result"
    },
    {
     "data": {
      "image/png": "[encoded data removed]",
      "text/plain": [
       "<Figure size 432x288 with 1 Axes>"
      ]
     },
     "metadata": {},
     "output_type": "display_data"
    }
   ],
   "source": [
    "sns.set_theme(style=\"whitegrid\") # outlier check\n",
    "# sns.boxplot(x=task_data[\"x\"])\n",
    "sns.boxplot(x=task_data[\"y\"])"
   ]
  },
  {
   "cell_type": "code",
   "execution_count": 6,
   "metadata": {},
   "outputs": [
    {
     "data": {
      "image/png": "[encoded data removed]",
      "text/plain": [
       "<Figure size 432x288 with 1 Axes>"
      ]
     },
     "metadata": {},
     "output_type": "display_data"
    }
   ],
   "source": [
    "# scatter plot\n",
    "plt.scatter(task_data[\"x\"],task_data[\"y\"],s=10)\n",
    "plt.xlabel('x')\n",
    "plt.ylabel('y')\n",
    "plt.show()      # polynomial regresion as second model"
   ]
  },
  {
   "cell_type": "markdown",
   "metadata": {},
   "source": [
    "<b>Missing value Imputaion using KNN<b>"
   ]
  },
  {
   "cell_type": "code",
   "execution_count": 7,
   "metadata": {},
   "outputs": [],
   "source": [
    "# Missing value treatment\n",
    "# task_data_final = task_data.fillna(task_data.median()) # gave decent model result\n",
    "\n",
    "# knn missing imputation - gave much better model result\n",
    "from sklearn.impute import KNNImputer\n",
    "\n",
    "imputer = KNNImputer(n_neighbors= 5)\n",
    "task_data_final = imputer.fit_transform(task_data)\n",
    "task_data_final = pd.DataFrame(task_data_final, columns = ['x','y'])"
   ]
  },
  {
   "cell_type": "markdown",
   "metadata": {},
   "source": [
    "# "
   ]
  },
  {
   "cell_type": "markdown",
   "metadata": {},
   "source": [
    "## Regression Models"
   ]
  },
  {
   "cell_type": "code",
   "execution_count": 8,
   "metadata": {},
   "outputs": [],
   "source": [
    "from sklearn.model_selection import train_test_split \n",
    "from sklearn.linear_model import LinearRegression\n",
    "from sklearn import metrics\n",
    "from sklearn.metrics import r2_score\n",
    "from sklearn.model_selection import KFold\n",
    "from sklearn.model_selection import cross_val_score"
   ]
  },
  {
   "cell_type": "code",
   "execution_count": 9,
   "metadata": {},
   "outputs": [],
   "source": [
    "X = pd.DataFrame(task_data_final[\"x\"])\n",
    "y = pd.DataFrame(task_data_final[\"y\"])\n",
    "\n",
    "# Test (70%) and train (30%) split\n",
    "X_train, X_test, y_train, y_test = train_test_split(X, y, test_size=0.3, random_state=0)"
   ]
  },
  {
   "cell_type": "markdown",
   "metadata": {},
   "source": [
    "### Model 1 - Linear Regression"
   ]
  },
  {
   "cell_type": "code",
   "execution_count": 10,
   "metadata": {},
   "outputs": [],
   "source": [
    "model_lr = LinearRegression()  \n",
    "model_lr.fit(X_train, y_train) #training the algorithm\n",
    "# prediction on test data\n",
    "y_pred_lr = model_lr.predict(X_test)"
   ]
  },
  {
   "cell_type": "code",
   "execution_count": 11,
   "metadata": {},
   "outputs": [
    {
     "name": "stdout",
     "output_type": "stream",
     "text": [
      "R^2 value: 0.86\n",
      "Root Mean Squared Error (RMSE): 90.23\n"
     ]
    }
   ],
   "source": [
    "print(\"R^2 value:\",round(r2_score(y_test,y_pred_lr),2))\n",
    "# print('Mean Absolute Error:', metrics.mean_absolute_error(y_test, y_pred_lr))  \n",
    "# print('Mean Squared Error:', metrics.mean_squared_error(y_test, y_pred_lr))  \n",
    "print('Root Mean Squared Error (RMSE):', round(np.sqrt(metrics.mean_squared_error(y_test, y_pred_lr)),2))"
   ]
  },
  {
   "cell_type": "markdown",
   "metadata": {},
   "source": [
    "<b>K-Fold cross-validation<b>"
   ]
  },
  {
   "cell_type": "code",
   "execution_count": 12,
   "metadata": {},
   "outputs": [
    {
     "name": "stdout",
     "output_type": "stream",
     "text": [
      "RMSE scores for 5 splits:  [88.46 82.37 82.9  91.05 87.71]\n",
      "Avg. RMSE for model with cross validation:  87.0\n"
     ]
    }
   ],
   "source": [
    "# creating a KFold object with 5 splits \n",
    "folds = KFold(n_splits = 5, shuffle = True, random_state = 100)\n",
    "scores = cross_val_score(model_lr, X_train, y_train, scoring='neg_root_mean_squared_error', cv=folds)\n",
    "scores = scores*-1\n",
    "print(\"RMSE scores for 5 splits: \",np.round(scores,2))\n",
    "print(\"Avg. RMSE for model with cross validation: \",np.round(scores.mean()))"
   ]
  },
  {
   "cell_type": "code",
   "execution_count": 13,
   "metadata": {},
   "outputs": [
    {
     "data": {
      "image/png": "[encoded data removed]",
      "text/plain": [
       "<Figure size 432x288 with 1 Axes>"
      ]
     },
     "metadata": {},
     "output_type": "display_data"
    }
   ],
   "source": [
    "# Visualising the Linear Regression results\n",
    "plt.scatter(X_test, y_test, color = 'blue')\n",
    "plt.plot(X_test, y_pred_lr, color = 'red')\n",
    "plt.title('Linear Regression')\n",
    "plt.xlabel('x')\n",
    "plt.ylabel('y')\n",
    "plt.show()                               # NOT THE BEST MODEL"
   ]
  },
  {
   "cell_type": "markdown",
   "metadata": {},
   "source": [
    "### Model 2 - Polynomial Regression "
   ]
  },
  {
   "cell_type": "code",
   "execution_count": 14,
   "metadata": {},
   "outputs": [],
   "source": [
    "from sklearn.preprocessing import PolynomialFeatures\n",
    "\n",
    "# transform our data into a polynomial\n",
    "poly = PolynomialFeatures(degree = 2)\n",
    "X_train_poly, X_test_poly = poly.fit_transform(X_train), poly.fit_transform(X_test)\n",
    "\n",
    "model_lr_poly = LinearRegression()\n",
    "model_lr_poly = model_lr_poly.fit(X_train_poly, y_train) #training the algorithm\n",
    "coefficient = model_lr_poly.coef_\n",
    "intercept = model_lr_poly.intercept_\n",
    "# prediction on test data\n",
    "y_pred_poly = model_lr_poly.predict(X_test_poly)"
   ]
  },
  {
   "cell_type": "code",
   "execution_count": 15,
   "metadata": {},
   "outputs": [
    {
     "name": "stdout",
     "output_type": "stream",
     "text": [
      "Root Mean Squared Error (RMSE): 27.14\n"
     ]
    }
   ],
   "source": [
    "# print(\"R^2 value:\",round(r2_score(y_test,y_pred_poly),2))\n",
    "# print('Mean Absolute Error:', metrics.mean_absolute_error(y_test, y_pred_poly))  \n",
    "# print('Mean Squared Error:', metrics.mean_squared_error(y_test, y_pred_poly))  \n",
    "print('Root Mean Squared Error (RMSE):', round(np.sqrt(metrics.mean_squared_error(y_test, y_pred_poly)),2))"
   ]
  },
  {
   "cell_type": "markdown",
   "metadata": {},
   "source": [
    "<b>K-Fold cross-validation<b>"
   ]
  },
  {
   "cell_type": "code",
   "execution_count": 16,
   "metadata": {},
   "outputs": [
    {
     "name": "stdout",
     "output_type": "stream",
     "text": [
      "RMSE scores for 5 splits:  [25.86 22.78 30.31 28.5  25.76]\n",
      "Avg. RMSE for model with cross validation:  27.0\n"
     ]
    }
   ],
   "source": [
    "# creating a KFold object with 5 splits \n",
    "folds = KFold(n_splits = 5, shuffle = True, random_state = 100)\n",
    "scores = cross_val_score(model_lr_poly, X_train_poly, y_train, scoring='neg_root_mean_squared_error', cv=folds)\n",
    "scores = scores*-1\n",
    "print(\"RMSE scores for 5 splits: \",np.round(scores,2))\n",
    "print(\"Avg. RMSE for model with cross validation: \",np.round(scores.mean()))"
   ]
  },
  {
   "cell_type": "code",
   "execution_count": 17,
   "metadata": {},
   "outputs": [
    {
     "data": {
      "image/png": "[encoded data removed]",
      "text/plain": [
       "<Figure size 432x288 with 1 Axes>"
      ]
     },
     "metadata": {},
     "output_type": "display_data"
    }
   ],
   "source": [
    "# Visualising the Linear Regression results\n",
    "x_axis = np.arange(7,14,0.1)\n",
    "# predicting using polynomial function\n",
    "response = intercept + coefficient[0,1] * x_axis + coefficient[0,2] * x_axis**2\n",
    "def polynomial_prediction_plot():\n",
    "    plt.scatter(X_test, y_test, color = 'blue')\n",
    "    plt.plot(x_axis, response, color = 'red')\n",
    "    plt.title('Polynoimial Regression')\n",
    "    plt.xlabel('x')\n",
    "    plt.ylabel('y')\n",
    "    plt.show() \n",
    "polynomial_prediction_plot()                            # THE BEST MODEL"
   ]
  },
  {
   "cell_type": "markdown",
   "metadata": {},
   "source": [
    "# "
   ]
  },
  {
   "cell_type": "markdown",
   "metadata": {},
   "source": [
    "# Final Notes"
   ]
  },
  {
   "cell_type": "markdown",
   "metadata": {},
   "source": [
    "-- Plotted data and used KNN approach to treat missing value.\n",
    "\n",
    "-- Performed <b>Linear Regression</b> and <b>Polynomial Regression</b>. \n",
    "   \n",
    "-- Choosen matric for evaluation is <b>RMSE (Root Mean Square Error)</b>, performed the evaluation using cross-validation\n",
    "\n",
    "-- Average RMSE for Linear Regression model with cross validation:  <b>87.0</b>\n",
    "\n",
    "<b>Polynomial Regression</b> model came out to be the best with an average RMSE score of <b>27.0</b>   "
   ]
  },
  {
   "cell_type": "code",
   "execution_count": 18,
   "metadata": {},
   "outputs": [
    {
     "data": {
      "image/png": "[encoded data removed]",
      "text/plain": [
       "<Figure size 432x288 with 1 Axes>"
      ]
     },
     "metadata": {},
     "output_type": "display_data"
    }
   ],
   "source": [
    "# Plotting the predictions from the best model against the data\n",
    "polynomial_prediction_plot()  "
   ]
  }
 ],
 "metadata": {
  "kernelspec": {
   "display_name": "Python 3",
   "language": "python",
   "name": "python3"
  },
  "language_info": {
   "codemirror_mode": {
    "name": "ipython",
    "version": 3
   },
   "file_extension": ".py",
   "mimetype": "text/x-python",
   "name": "python",
   "nbconvert_exporter": "python",
   "pygments_lexer": "ipython3",
   "version": "3.8.5"
  }
 },
 "nbformat": 4,
 "nbformat_minor": 4
}
